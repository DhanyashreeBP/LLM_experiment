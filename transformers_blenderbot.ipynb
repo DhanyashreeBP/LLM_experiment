{
 "cells": [
  {
   "cell_type": "markdown",
   "metadata": {
    "colab_type": "text",
    "id": "view-in-github"
   },
   "source": [
    "<a href=\"https://colab.research.google.com/github/DhanyashreeBP/LLM_experiment/blob/main/Untitled0.ipynb\" target=\"_parent\"><img src=\"https://colab.research.google.com/assets/colab-badge.svg\" alt=\"Open In Colab\"/></a>"
   ]
  },
  {
   "cell_type": "code",
   "execution_count": null,
   "metadata": {
    "colab": {
     "base_uri": "https://localhost:8080/",
     "height": 1000
    },
    "id": "0AjaPwM1iFKL",
    "outputId": "796cba18-25a4-46be-f902-b706930d2bdc"
   },
   "outputs": [],
   "source": [
    "!pip install transformers==4.42.1 -U\n",
    "!pip install sentencepiece\n",
    "!pip install torch==2.2.2\n",
    "!pip install torchtext==0.17.2\n",
    "!pip install numpy==1.26\n",
    "#!pip install --upgrade numpy transformers torch"
   ]
  },
  {
   "cell_type": "code",
   "execution_count": null,
   "metadata": {
    "colab": {
     "base_uri": "https://localhost:8080/",
     "height": 427,
     "referenced_widgets": [
      "fdd6698eb5534852a6e46d822f8aeb06",
      "defbb76af620494fa6705abe912c111d",
      "f5e219eabbb3476c8d1f754edd21c648",
      "d0ae6c3a084e442cb7e45523bddb0267",
      "5c14efe7aed644fb81c7ff6c76b2173b",
      "15b65545d9da4b569e8cd910bf284758",
      "3369399e016d4fcfb2d28a2ebf3923ce",
      "9dc38d78843d45cea1fe026b4f835c3e",
      "0e00ed09f4754de4856636586d1177d8",
      "8abf68f17e914fa09d7556a1def804e9",
      "e5071ca86c2e484fbb3092ca676f0293",
      "0bec88f3d46c4ad78d465fc1b1e0fe19",
      "1d82b80a7e8d415882bf0b76969cae4f",
      "1be3d2c5ab0a4d35bdf62ed7a0fcfdcd",
      "75b85c88a5ed4b3eb00beae783736ddf",
      "880411f9b44d4439a1065a4ad7a50f7b",
      "9ce292144b9a46688c46c1fb9f3bea2e",
      "1a7f96e3edcc45ea89ceba9bae6a12a5",
      "274688853fb84f5cb2a92da950f00d74",
      "18a59af8d083492fae52db95b2f7af4d",
      "b8bf206a0c2b44ffa75655525e39e219",
      "dec094c818c3400296be149ab47252fc",
      "acde77447b314788bbba3fd0e0305f7c",
      "321313dbda7f47fcaeb2c3d2b091dab4",
      "8104645a2bcc492ebd066009582031c2",
      "0c301310c8bc4f029145f7d0a5406904",
      "3ebea56311ea47cd8f94bc24eee307c6",
      "51461f1ab40b4cd8b687c04e9f538598",
      "7bc2e6cad74d4a9684b0a69441b38d48",
      "82b28d89666c42cc814beb1ff484274e",
      "2b9547a448534ed69b19dcfecf34feb0",
      "ca8ca72ca1e54c4ab53f4804d6cd9b33",
      "bd95b539192a48dd87a9a4fe0df66bf1",
      "b0dee4f768b74624a9e94799ddaadf54",
      "3aaafdf2226849d5bc4da82dcea76e61",
      "1641ca24521d4975b11c15936bcc0e67",
      "d43fb79c837545b2951dbe2ed92fd94a",
      "b862fce80eab458895afca52998db4b8",
      "c3eb1e7788e74561834a44ca9d924cf8",
      "75800f273d1843df9547b3fbc5aa2fa0",
      "abd80bb1b6a94e58879531c6106ace0e",
      "30fb21d8ecbd416c8eb9168b42ddc42b",
      "a6a0f5a4ffa04ae6aa497673a771de99",
      "05c7333762b24e7a83162dd05f090ee0",
      "5819c15922fc4e4b85b80edeb31d06af",
      "1a1ded009bc24a4b8f064b6e926ad860",
      "3a2ea1a0065849a1a64eb56fc47a2337",
      "c4df29c54e2c4e8aab1dd996c3ceef08",
      "add35dc910f5462ca069e30e37ebed4d",
      "8c0fd18ba0714e91b1bd7fe8a9d30cd2",
      "a0d0cb99919946e487be7630b6d6f587",
      "a5d85c58008e450a8b309bd8dc8815e6",
      "99b1456b2b684e7e972d0d4c2da98e3b",
      "9c2c18fed6204bb583c7071c17497513",
      "66613cdfe1034eb78b0cf9070f734428",
      "88da406e81ac4670a1f1b95b5e557bca",
      "05cbb92e9e824e7b9d4d575493b50a33",
      "31da587cf5024cae8c2164be6159d2f4",
      "718dd5ec85b548e1a0f1a14342d697c7",
      "9c06204bf3dc40148b8d42a2fe5c5f0d",
      "863b2c123e7b4a85b229dd18b2830bac",
      "df4b9ad5de9640ab97eb556724f77a39",
      "4e3fcd9d979c4d30b4f6da7cac6c2669",
      "2ebdb9155be14a4087890b88cf72062f",
      "381636567a1d4ce58885dcdaa137b5a1",
      "52f721fa751d4b169db04df7b7f726bb",
      "9ed8aec8c6e342808f297f8b35256b95",
      "029adb6440734dd4b72f8dbf1462c4d3",
      "dbc97686e4c1403b9940215f0adbb6be",
      "5bb0bd4f332b41c8beb830cc9905a9a3",
      "03570cf2d5694d4cb833b1014585f7ee",
      "9bdcac7fb6f3409da0fe255804010132",
      "ddebcbc9de3d466bac49020cc4b11bc4",
      "a76e2a3ee302409aaaea15498283ef82",
      "6ba422e4fa11427cb0b1a82503b58987",
      "b6c0c9a9f54a46dc902d405823039496",
      "4a8702c3b85d43f4a049aa9831cc530c",
      "331e8b225e664b69af47110da6d99bfe",
      "eb9b1970a2764d5faa33e5000c14a329",
      "cd7ee23dd70b4fe2a352cc56235a63b0",
      "5a05e728a79943da96af10f62c26d2f3",
      "0c1a8496427b48bc8124041e3d44ce68",
      "6becc7de659b465c88dbeab4b6a09053",
      "055933b9944f4f0e917b33266d5e3b17",
      "2c98e77b0a624eb389c5171e0dac8ae0",
      "e7dfa02c4a644db287d749eba04852a4",
      "593a233aa26641c1b66676fe209dec47",
      "1c75843076dc4b4e876e6c065395942d",
      "29deaeca024746fe8456f8017273e981",
      "241dd72f3aba4638b9af3fffd0b6ecab",
      "b7160d31ca2b4844abebc2a7a37a1966",
      "2130fb9080ef4a42aa684febb7936a1b",
      "4fa6a46396734453a9b39726d2f9ab66",
      "9e0626cde8de41d98de0806b410b4f07",
      "2bf3206f93354f90843b4987a276ede8",
      "0523660fd1934805baac3af938cd4fb2",
      "22c48d550a6f4d4aa93820d521a30040",
      "4a7d74d170cc41658ad042f08a47408c",
      "597b1a86ee9441329d1ca753193e9039"
     ]
    },
    "id": "zcBNxfvfiQn_",
    "outputId": "a7493c71-3cd2-45db-f6d1-3525dbebc7bb"
   },
   "outputs": [],
   "source": [
    "from transformers import AutoTokenizer, AutoModelForSeq2SeqLM\n",
    "\n",
    "# Selecting the model. You will be using \"facebook/blenderbot-400M-distill\" in this example.\n",
    "model_name = \"facebook/blenderbot-400M-distill\"\n",
    "\n",
    "# Load the model and tokenizer\n",
    "model = AutoModelForSeq2SeqLM.from_pretrained(model_name)\n",
    "tokenizer = AutoTokenizer.from_pretrained(model_name)"
   ]
  },
  {
   "cell_type": "code",
   "execution_count": null,
   "metadata": {
    "colab": {
     "base_uri": "https://localhost:8080/"
    },
    "id": "Xr3CBJFjiXzr",
    "outputId": "c2947d30-a8a3-4625-a153-5f388175f3ff"
   },
   "outputs": [],
   "source": [
    "# Define the chat function\n",
    "def chat_with_bot():\n",
    "    while True:\n",
    "        # Get user input\n",
    "        input_text = input(\"You: \")\n",
    "\n",
    "        # Exit conditions\n",
    "        if input_text.lower() in [\"quit\", \"exit\", \"bye\"]:\n",
    "            print(\"Chatbot: Goodbye!\")\n",
    "            break\n",
    "\n",
    "        # Tokenize input and generate response\n",
    "        inputs = tokenizer.encode(input_text, return_tensors=\"pt\")\n",
    "        outputs = model.generate(inputs, max_new_tokens=150)\n",
    "        response = tokenizer.decode(outputs[0], skip_special_tokens=True).strip()\n",
    "\n",
    "        # Display bot's response\n",
    "        print(\"Chatbot:\", response)\n",
    "\n",
    "# Start chatting\n",
    "chat_with_bot()"
   ]
  }
 ],
 "metadata": {
  "colab": {
   "authorship_tag": "ABX9TyONn3JdreRsb1btG9g1SZKw",
   "include_colab_link": true,
   "provenance": []
  },
  "kernelspec": {
   "display_name": "Python 3",
   "name": "python3"
  },
  "language_info": {
   "name": "python"
  }
 },
 "nbformat": 4,
 "nbformat_minor": 0
}
